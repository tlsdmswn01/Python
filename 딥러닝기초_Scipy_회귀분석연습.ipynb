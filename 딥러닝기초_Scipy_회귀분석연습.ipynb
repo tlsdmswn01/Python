{
  "nbformat": 4,
  "nbformat_minor": 0,
  "metadata": {
    "colab": {
      "private_outputs": true,
      "provenance": [],
      "authorship_tag": "ABX9TyP/wMDC3DiIUSi+Wb0x0Z61",
      "include_colab_link": true
    },
    "kernelspec": {
      "name": "python3",
      "display_name": "Python 3"
    },
    "language_info": {
      "name": "python"
    }
  },
  "cells": [
    {
      "cell_type": "markdown",
      "metadata": {
        "id": "view-in-github",
        "colab_type": "text"
      },
      "source": [
        "<a href=\"https://colab.research.google.com/github/tlsdmswn01/Python/blob/main/%EB%94%A5%EB%9F%AC%EB%8B%9D%EA%B8%B0%EC%B4%88_Scipy_%ED%9A%8C%EA%B7%80%EB%B6%84%EC%84%9D%EC%97%B0%EC%8A%B5.ipynb\" target=\"_parent\"><img src=\"https://colab.research.google.com/assets/colab-badge.svg\" alt=\"Open In Colab\"/></a>"
      ]
    },
    {
      "cell_type": "markdown",
      "source": [
        "## KOSPI 다우존스 회귀분석"
      ],
      "metadata": {
        "id": "tVK0SVzsYmIZ"
      }
    },
    {
      "cell_type": "markdown",
      "source": [
        "- KOSPI VS 다우존스 지수 단순비교\n",
        "    - 국내 주식 KOSPI와 미국 주식의 다우존스 지수의 상관관계를 비교해보자.\n",
        "\n",
        "    1. 2000년 이후 다우존스지수(^DJI)\n",
        "    2. 2000년 이후 KOSPI(^KS11) 데이터를 다운로드한다.\n",
        "    3. 다우존스 지수를 붉은 점선으로 출력한다.\n",
        "    4. KOSPI를 푸른 실선으로 출력한다."
      ],
      "metadata": {
        "id": "TJDze-oWYmvN"
      }
    },
    {
      "cell_type": "markdown",
      "source": [
        "- KOSPI VS 다우존스 지수화 비교\n",
        "    - 일반 종가 데이터만으로 KOSPI와 다우존스 지수의  상관관계는 비교하기가 힘들다.\n",
        "    - 그러므로 현재 종가가 아닌 특정 시점의 종가로 나누어 변동률을 지수화 비교로 확인할 수 있다.\n",
        "\n",
        "1. 현재 다우존스 지수를 2000년 이후 다우존스 지수로 나눈뒤 100을 곱한다.\n",
        "2. 현재 KOSPI 지수를 2000년 이후 KOSPI  지수로 나눈뒤 100을 곱한다"
      ],
      "metadata": {
        "id": "EecXYkyeYzaF"
      }
    },
    {
      "cell_type": "code",
      "execution_count": null,
      "metadata": {
        "id": "zsYwi5slaI8k"
      },
      "outputs": [],
      "source": [
        "import yfinance as yf\n",
        "from pandas_datareader import data as pdr\n",
        "import matplotlib.pyplot as plt\n",
        "import pandas as pd\n",
        "\n",
        "yf.pdr_override()\n",
        "\n",
        "dow = pdr.get_data_yahoo('^DJI', start='2000-01-01')\n",
        "# 코스피 지수 가져오기\n",
        "kospi = pdr.get_data_yahoo('^KS11', start='2000-01-01')\n",
        "\n",
        "dow_d=(dow.Close/dow.Close.loc['2000-01-04'])*100\n",
        "kospi_k=(kospi.Close / kospi.Close.loc['2000-01-04'])*100\n",
        "\n",
        "# kospi & 다우존스 dataframe 생성\n",
        "df = pd.DataFrame({'DOW' : dow['Close'], 'KOSPI':kospi['Close']})\n",
        "df=df.fillna(method='ffill')\n",
        "df=df.fillna(method='bfill')\n",
        "\n",
        "\n",
        "# 종가 비교 그래프 그리기\n",
        "plt.figure(figsize=(10,8))\n",
        "plt.plot(dow_d.index, dow_d, 'b', label='DOW')\n",
        "plt.plot(kospi_k.index, kospi_k, 'r', label='KOSPI')\n",
        "plt.grid(True)\n",
        "plt.xlabel('Period')\n",
        "plt.ylabel('Stock Price')\n",
        "plt.legend()\n",
        "plt.show()\n",
        "\n"
      ]
    },
    {
      "cell_type": "code",
      "source": [
        "# 종가 비교 그래프 그리기\n",
        "plt.figure(figsize=(10,8))\n",
        "plt.scatter(df['DOW'], df['KOSPI'], marker='.')\n",
        "plt.grid(True)\n",
        "plt.xlabel('Dow Jones Industrial Average')\n",
        "plt.ylabel('KOSPI')\n",
        "plt.legend(loc='best')\n",
        "plt.show()"
      ],
      "metadata": {
        "id": "8ZCjw-4tYyPn"
      },
      "execution_count": null,
      "outputs": []
    },
    {
      "cell_type": "markdown",
      "source": [
        "- KOSPI VS 다우존스 선형회귀분석\n",
        "\n",
        "- 회귀 모델 : 연속적인 데이터 y, 원인이 되는 데이터 x간의 관계를 추정하는 관계"
      ],
      "metadata": {
        "id": "0zJIDfG5gHTQ"
      }
    },
    {
      "cell_type": "markdown",
      "source": [
        "$E(Y) = \\beta_0+\\beta_1 X_i = 523.47+0.071*x$\n",
        "\n",
        "- stats로 생성한 모델로 선형회귀식을 위와 같이 구할 수 있다.\n",
        "- 임의의 x의 값이 주어질 경우 이에 해당하는 y값을 예측할 수 있다."
      ],
      "metadata": {
        "id": "UiY-xT_pghoW"
      }
    },
    {
      "cell_type": "code",
      "source": [
        "from scipy import stats\n",
        "\n",
        "regr= stats.linregress(df['DOW'],df['KOSPI'])\n",
        "regr"
      ],
      "metadata": {
        "id": "yQwo0-Q2gH-n"
      },
      "execution_count": null,
      "outputs": []
    },
    {
      "cell_type": "markdown",
      "source": [
        "**상관계수에 따른 리스크 완화**\n",
        "\n",
        "- 상관계수 $r$은 $-1{\\leq}r {\\leq}1$의 범위를 가진다.\n",
        "    - 상관계수 r=1에 가까울 때, 양의 상관관계를 가진다. 상관계수 r=-1에 가까울 때, 음의 상관관계를 가진다. 상관계수 $r$=0일 때, 2개의 변수는 상관관계가 없다.\n"
      ],
      "metadata": {
        "id": "FK3UaRrLgkwP"
      }
    },
    {
      "cell_type": "code",
      "source": [
        "df['DOW'].corr(df['KOSPI'])"
      ],
      "metadata": {
        "id": "V6chXnsSgmMO"
      },
      "execution_count": null,
      "outputs": []
    },
    {
      "cell_type": "markdown",
      "source": [
        "**결정 계수 구하기**\n",
        "\n",
        "- 결정계수란, 관측된 데이터에서 추정한 회귀선이 실제로 얼마나 잘 설명하고 있는지 나타내는 계수.\n",
        "\n",
        "- 결정계수는 두 변수의 상관관계 정도를 나타내는 상관계수(R value)를 제곱한 값.\n",
        "- R2 결정계수 = R2 Score라고 부른다."
      ],
      "metadata": {
        "id": "-NaPgwfahUgA"
      }
    },
    {
      "cell_type": "code",
      "source": [
        "# KOSPI VS DOW 지수 상관계수 구하기\n",
        "r_value=df['DOW'].corr(df['KOSPI'])\n",
        "\n",
        "#결정계수 r2 score\n",
        "r2=r_value**2\n",
        "r2"
      ],
      "metadata": {
        "id": "ZbQNdMnvhWrH"
      },
      "execution_count": null,
      "outputs": []
    },
    {
      "cell_type": "code",
      "source": [
        "# 종가 비교 그래프 그리기 + 추세선\n",
        "plt.figure(figsize=(10,8))\n",
        "plt.scatter(df['DOW'], df['KOSPI'], marker='.')\n",
        "plt.plot(df.DOW,regr.slope*df.DOW+regr.intercept,'r')\n",
        "plt.grid(True)\n",
        "plt.xlabel('Dow Jones Industrial Average')\n",
        "plt.ylabel('KOSPI')\n",
        "plt.legend(loc='best')\n",
        "plt.show()"
      ],
      "metadata": {
        "id": "mQ7F6SABhmvw"
      },
      "execution_count": null,
      "outputs": []
    }
  ]
}